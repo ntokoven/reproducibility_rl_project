{
 "cells": [
  {
   "cell_type": "code",
   "execution_count": 5,
   "metadata": {},
   "outputs": [],
   "source": [
    "import torch\n",
    "import torch.nn as nn\n",
    "import torch.optim as optim\n",
    "import torch.nn.functional as F\n",
    "import torch.distributions as distributions\n",
    "\n",
    "import matplotlib.pyplot as plt\n",
    "from tqdm import tqdm_notebook as tqdm\n",
    "import numpy as np\n",
    "import gym"
   ]
  },
  {
   "cell_type": "code",
   "execution_count": 6,
   "metadata": {},
   "outputs": [],
   "source": [
    "train_env = gym.make('CartPole-v0')\n",
    "test_env = gym.make('CartPole-v0')\n",
    "\n",
    "assert isinstance(train_env.observation_space, gym.spaces.Box)\n",
    "assert isinstance(train_env.action_space, gym.spaces.Discrete)"
   ]
  },
  {
   "cell_type": "code",
   "execution_count": 7,
   "metadata": {},
   "outputs": [],
   "source": [
    "SEED = 1234\n",
    "\n",
    "train_env.seed(SEED);\n",
    "test_env.seed(SEED);\n",
    "np.random.seed(SEED);\n",
    "torch.manual_seed(SEED);"
   ]
  },
  {
   "cell_type": "code",
   "execution_count": 8,
   "metadata": {},
   "outputs": [],
   "source": [
    "class MLP(nn.Module):\n",
    "    def __init__(self, input_dim, hidden_dim, output_dim, dropout = 0.0):\n",
    "        super().__init__()\n",
    "\n",
    "        self.fc_1 = nn.Linear(input_dim, hidden_dim)\n",
    "        self.fc_2 = nn.Linear(hidden_dim, output_dim)\n",
    "        self.dropout = nn.Dropout(dropout)\n",
    "        \n",
    "    def forward(self, x):\n",
    "        x = self.fc_1(x)\n",
    "        x = self.dropout(x)\n",
    "        x = F.relu(x)\n",
    "        x = self.fc_2(x)\n",
    "        return x"
   ]
  },
  {
   "cell_type": "code",
   "execution_count": 9,
   "metadata": {},
   "outputs": [],
   "source": [
    "INPUT_DIM = train_env.observation_space.shape[0]\n",
    "HIDDEN_DIM = 256\n",
    "OUTPUT_DIM = train_env.action_space.n\n",
    "\n",
    "actor = MLP(INPUT_DIM, HIDDEN_DIM, OUTPUT_DIM)\n",
    "critic = MLP(INPUT_DIM, HIDDEN_DIM, 1)"
   ]
  },
  {
   "cell_type": "code",
   "execution_count": 10,
   "metadata": {},
   "outputs": [
    {
     "data": {
      "text/plain": [
       "MLP(\n",
       "  (fc_1): Linear(in_features=4, out_features=256, bias=True)\n",
       "  (fc_2): Linear(in_features=256, out_features=1, bias=True)\n",
       "  (dropout): Dropout(p=0.0, inplace=False)\n",
       ")"
      ]
     },
     "execution_count": 10,
     "metadata": {},
     "output_type": "execute_result"
    }
   ],
   "source": [
    "def init_weights(m):\n",
    "    if type(m) == nn.Linear:\n",
    "        torch.nn.init.xavier_normal_(m.weight)\n",
    "        m.bias.data.fill_(0)\n",
    "        \n",
    "actor.apply(init_weights)\n",
    "critic.apply(init_weights)"
   ]
  },
  {
   "cell_type": "code",
   "execution_count": 11,
   "metadata": {},
   "outputs": [],
   "source": [
    "LEARNING_RATE = 0.01\n",
    "\n",
    "actor_optimizer = optim.Adam(actor.parameters(), lr=3e-4)\n",
    "critic_optimizer = optim.Adam(critic.parameters(), lr=3e-4)"
   ]
  },
  {
   "cell_type": "code",
   "execution_count": 12,
   "metadata": {},
   "outputs": [],
   "source": [
    "def train(env, actor, critic, actor_optimizer, critic_optimizer, n_steps, discount_factor):\n",
    "    \n",
    "    log_prob_actions = torch.zeros(n_steps)\n",
    "    entropies = torch.zeros(n_steps)\n",
    "    values = torch.zeros(n_steps)\n",
    "    rewards = torch.zeros(n_steps)\n",
    "    masks = torch.zeros(n_steps)\n",
    "    episode_reward = 0\n",
    "\n",
    "    state = env.state\n",
    "\n",
    "    for step in range(n_steps):\n",
    "\n",
    "        state = torch.FloatTensor(state).unsqueeze(0)\n",
    "        \n",
    "        action_preds = actor(state)\n",
    "        value_pred = critic(state).squeeze(-1)\n",
    "\n",
    "        action_probs = F.softmax(action_preds, dim = -1)\n",
    "                \n",
    "        dist = distributions.Categorical(action_probs)\n",
    "\n",
    "        action = dist.sample()\n",
    "        \n",
    "        log_prob_action = dist.log_prob(action)\n",
    "        \n",
    "        entropy = dist.entropy()\n",
    "        \n",
    "        state, reward, done, _ = env.step(action.item())\n",
    "\n",
    "        log_prob_actions[step] = log_prob_action\n",
    "        entropies[step] = entropy\n",
    "        values[step] = value_pred\n",
    "        rewards[step] = reward\n",
    "        masks[step] = 1 - done\n",
    "    \n",
    "        if done:\n",
    "            state = env.reset()\n",
    "    \n",
    "    next_value = critic(torch.FloatTensor(state).unsqueeze(0)).squeeze(-1)\n",
    "    returns = calculate_returns(rewards, next_value, masks, discount_factor)\n",
    "    advantages = calculate_advantages(returns, values)\n",
    "    \n",
    "    policy_loss, value_loss = update_policy(advantages, log_prob_actions, returns, values, entropies, actor_optimizer, critic_optimizer)\n",
    "\n",
    "    return policy_loss, value_loss"
   ]
  },
  {
   "cell_type": "code",
   "execution_count": 13,
   "metadata": {},
   "outputs": [],
   "source": [
    "def calculate_returns(rewards, next_value, masks, discount_factor, normalize = False):\n",
    "    \n",
    "    returns = torch.zeros_like(rewards)\n",
    "    R = next_value.item()\n",
    "    \n",
    "    for i, (r, m) in enumerate(zip(reversed(rewards), reversed(masks))):\n",
    "        R = r + R * discount_factor * m\n",
    "        returns[i] = R\n",
    "    \n",
    "    if normalize:\n",
    "        \n",
    "        returns = (returns - returns.mean()) / returns.std()\n",
    "        \n",
    "    return returns"
   ]
  },
  {
   "cell_type": "code",
   "execution_count": 14,
   "metadata": {},
   "outputs": [],
   "source": [
    "def calculate_advantages(returns, values, normalize = False):\n",
    "    \n",
    "    advantages = returns - values\n",
    "    \n",
    "    if normalize:\n",
    "        \n",
    "        advantages = (advantages - advantages.mean()) / advantages.std()\n",
    "        \n",
    "    return advantages"
   ]
  },
  {
   "cell_type": "code",
   "execution_count": 15,
   "metadata": {},
   "outputs": [],
   "source": [
    "def update_policy(advantages, log_prob_actions, returns, values, entropies, actor_optimizer, critic_optimizer):\n",
    "        \n",
    "    advantages = advantages.detach()\n",
    "    returns = returns.detach()\n",
    "        \n",
    "    policy_loss = - (advantages * log_prob_actions).mean() - 0.001 * entropies.mean()\n",
    "    \n",
    "    value_loss = 0.5 * F.smooth_l1_loss(returns, values).mean()\n",
    "        \n",
    "    actor_optimizer.zero_grad()\n",
    "    critic_optimizer.zero_grad()\n",
    "    \n",
    "    policy_loss.backward()\n",
    "    value_loss.backward()\n",
    "    \n",
    "    actor_optimizer.step()\n",
    "    critic_optimizer.step()\n",
    "    \n",
    "    return policy_loss.item(), value_loss.item()"
   ]
  },
  {
   "cell_type": "code",
   "execution_count": 16,
   "metadata": {},
   "outputs": [],
   "source": [
    "def evaluate(env, actor, critic):\n",
    "    \n",
    "    done = False\n",
    "    episode_reward = 0\n",
    "    \n",
    "    state = env.reset()\n",
    "    \n",
    "    while not done:\n",
    "        \n",
    "        state = torch.FloatTensor(state).unsqueeze(0)\n",
    "        \n",
    "        action_preds = actor(state)\n",
    "        \n",
    "        action_probs = F.softmax(action_preds, dim = -1)\n",
    "        \n",
    "        dist = distributions.Categorical(action_probs)\n",
    "\n",
    "        action = dist.sample() \n",
    "        \n",
    "        state, reward, done, _ = env.step(action.item())\n",
    "        \n",
    "        episode_reward += reward\n",
    "        \n",
    "    return episode_reward"
   ]
  },
  {
   "cell_type": "code",
   "execution_count": null,
   "metadata": {},
   "outputs": [
    {
     "name": "stdout",
     "output_type": "stream",
     "text": [
      "| Steps:      0 | Evaluated Reward:  10.00 |\n",
      "| Steps:   1000 | Evaluated Reward:  64.00 |\n",
      "| Steps:   2000 | Evaluated Reward:   8.00 |\n",
      "| Steps:   3000 | Evaluated Reward:  17.00 |\n",
      "| Steps:   4000 | Evaluated Reward:  54.00 |\n",
      "| Steps:   5000 | Evaluated Reward:  49.00 |\n",
      "| Steps:   6000 | Evaluated Reward:  20.00 |\n",
      "| Steps:   7000 | Evaluated Reward:  33.00 |\n",
      "| Steps:   8000 | Evaluated Reward:  13.00 |\n",
      "| Steps:   9000 | Evaluated Reward:  18.00 |\n",
      "| Steps:  10000 | Evaluated Reward:   9.00 |\n",
      "| Steps:  11000 | Evaluated Reward:  18.00 |\n",
      "| Steps:  12000 | Evaluated Reward:  24.00 |\n",
      "| Steps:  13000 | Evaluated Reward:  13.00 |\n",
      "| Steps:  14000 | Evaluated Reward:  13.00 |\n",
      "| Steps:  15000 | Evaluated Reward:  18.00 |\n",
      "| Steps:  16000 | Evaluated Reward:  18.00 |\n",
      "| Steps:  17000 | Evaluated Reward:  13.00 |\n",
      "| Steps:  18000 | Evaluated Reward:  26.00 |\n",
      "| Steps:  19000 | Evaluated Reward:  19.00 |\n",
      "| Steps:  20000 | Evaluated Reward:  16.00 |\n",
      "| Steps:  21000 | Evaluated Reward:  11.00 |\n",
      "| Steps:  22000 | Evaluated Reward:  24.00 |\n",
      "| Steps:  23000 | Evaluated Reward:  23.00 |\n",
      "| Steps:  24000 | Evaluated Reward:  29.00 |\n",
      "| Steps:  25000 | Evaluated Reward:  28.00 |\n",
      "| Steps:  26000 | Evaluated Reward:  17.00 |\n",
      "| Steps:  27000 | Evaluated Reward:  11.00 |\n",
      "| Steps:  28000 | Evaluated Reward:  14.00 |\n",
      "| Steps:  29000 | Evaluated Reward:  27.00 |\n",
      "| Steps:  30000 | Evaluated Reward:  21.00 |\n",
      "| Steps:  31000 | Evaluated Reward:  13.00 |\n",
      "| Steps:  32000 | Evaluated Reward:  21.00 |\n",
      "| Steps:  33000 | Evaluated Reward:  20.00 |\n",
      "| Steps:  34000 | Evaluated Reward:  15.00 |\n",
      "| Steps:  35000 | Evaluated Reward:  25.00 |\n",
      "| Steps:  36000 | Evaluated Reward:  40.00 |\n",
      "| Steps:  37000 | Evaluated Reward:  26.00 |\n",
      "| Steps:  38000 | Evaluated Reward:  21.00 |\n",
      "| Steps:  39000 | Evaluated Reward:  18.00 |\n",
      "| Steps:  40000 | Evaluated Reward:  19.00 |\n",
      "| Steps:  41000 | Evaluated Reward:  31.00 |\n",
      "| Steps:  42000 | Evaluated Reward:  20.00 |\n",
      "| Steps:  43000 | Evaluated Reward:  14.00 |\n",
      "| Steps:  44000 | Evaluated Reward:  41.00 |\n",
      "| Steps:  45000 | Evaluated Reward:  16.00 |\n"
     ]
    }
   ],
   "source": [
    "MAX_STEPS = 100_000\n",
    "N_UPDATE_STEPS =  100\n",
    "DISCOUNT_FACTOR = 0.99\n",
    "N_TRIALS = 25\n",
    "REWARD_THRESHOLD = 475\n",
    "PRINT_EVERY = 10\n",
    "\n",
    "episode_rewards = []\n",
    "\n",
    "_ = train_env.reset()\n",
    "\n",
    "for step in range(MAX_STEPS):\n",
    "        \n",
    "    policy_loss, value_loss = train(train_env, actor, critic, actor_optimizer, critic_optimizer, N_UPDATE_STEPS, DISCOUNT_FACTOR)\n",
    "    \n",
    "    episode_reward = evaluate(test_env, actor, critic)\n",
    "    \n",
    "    episode_rewards.append(episode_reward)\n",
    "    \n",
    "    mean_trial_rewards = np.mean(episode_rewards[-N_TRIALS:])\n",
    "    \n",
    "    if step % PRINT_EVERY == 0:\n",
    "            \n",
    "        print(f'| Steps: {N_UPDATE_STEPS*step:6} | Evaluated Reward: {episode_reward:6.2f} |')\n",
    "    \n"
   ]
  },
  {
   "cell_type": "code",
   "execution_count": null,
   "metadata": {},
   "outputs": [],
   "source": []
  }
 ],
 "metadata": {
  "kernelspec": {
   "display_name": "Python 3",
   "language": "python",
   "name": "python3"
  },
  "language_info": {
   "codemirror_mode": {
    "name": "ipython",
    "version": 3
   },
   "file_extension": ".py",
   "mimetype": "text/x-python",
   "name": "python",
   "nbconvert_exporter": "python",
   "pygments_lexer": "ipython3",
   "version": "3.7.3"
  }
 },
 "nbformat": 4,
 "nbformat_minor": 2
}
