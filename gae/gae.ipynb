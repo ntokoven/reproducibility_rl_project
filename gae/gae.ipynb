{
 "cells": [
  {
   "cell_type": "markdown",
   "metadata": {},
   "source": [
    "https://datascience.stackexchange.com/questions/32480/how-does-generalised-advantage-estimation-work\n",
    "https://lilianweng.github.io/lil-log/2018/02/19/a-long-peek-into-reinforcement-learning.html#combining-td-and-mc-learning\n",
    "https://arxiv.org/pdf/1506.02438.pdf\n",
    "https://github.com/higgsfield/RL-Adventure-2\n",
    "http://www.breloff.com/DeepRL-OnlineGAE/\n",
    "https://arxiv.org/pdf/1804.02717.pdf\n",
    "https://ewrl.files.wordpress.com/2015/02/ewrl12_2015_submission_18.pdf\n",
    "https://github.com/Kaixhin/Dist-A3C\n",
    "https://github.com/Kaixhin/Dist-A3C/blob/master/client.py"
   ]
  },
  {
   "cell_type": "code",
   "execution_count": 137,
   "metadata": {},
   "outputs": [],
   "source": [
    "import torch\n",
    "import torch.nn as nn\n",
    "import torch.optim as optim\n",
    "import torch.nn.functional as F\n",
    "import torch.distributions as distributions\n",
    "\n",
    "import matplotlib.pyplot as plt\n",
    "from tqdm import tqdm_notebook as tqdm\n",
    "import numpy as np\n",
    "import gym"
   ]
  },
  {
   "cell_type": "code",
   "execution_count": 162,
   "metadata": {},
   "outputs": [],
   "source": [
    "env_name = 'CartPole-v0'\n",
    "#env_name = 'FrozenLake-v0'\n",
    "env = gym.make(env_name)\n",
    "\n",
    "#assert isinstance(env.observation_space, gym.spaces.Box)\n",
    "#assert isinstance(env.action_space, gym.spaces.Discrete)"
   ]
  },
  {
   "cell_type": "code",
   "execution_count": 215,
   "metadata": {},
   "outputs": [],
   "source": [
    "SEED = 2\n",
    "\n",
    "env.seed(SEED);\n",
    "np.random.seed(SEED);\n",
    "torch.manual_seed(SEED);"
   ]
  },
  {
   "cell_type": "code",
   "execution_count": 216,
   "metadata": {},
   "outputs": [],
   "source": [
    "class MLP(nn.Module):\n",
    "    def __init__(self, input_dim, hidden_dim, output_dim, dropout = 0.25):\n",
    "        super().__init__()\n",
    "\n",
    "        self.fc_1 = nn.Linear(input_dim, hidden_dim)\n",
    "        self.fc_2 = nn.Linear(hidden_dim, output_dim)\n",
    "        self.dropout = nn.Dropout(dropout)\n",
    "        \n",
    "    def forward(self, x):\n",
    "        x = self.fc_1(x)\n",
    "        x = self.dropout(x)\n",
    "        x = F.relu(x)\n",
    "        x = self.fc_2(x)\n",
    "        return x"
   ]
  },
  {
   "cell_type": "code",
   "execution_count": 217,
   "metadata": {},
   "outputs": [
    {
     "name": "stdout",
     "output_type": "stream",
     "text": [
      "4\n"
     ]
    }
   ],
   "source": [
    "#INPUT_DIM = env.observation_space.shape[0]\n",
    "if env_name == 'FrozenLake-v0':\n",
    "    INPUT_DIM = env.observation_space.n\n",
    "else:\n",
    "    INPUT_DIM = env.observation_space.shape[0]\n",
    "print(INPUT_DIM)\n",
    "HIDDEN_DIM = 128\n",
    "OUTPUT_DIM = env.action_space.n\n",
    "\n",
    "actor = MLP(INPUT_DIM, HIDDEN_DIM, OUTPUT_DIM)\n",
    "critic = MLP(INPUT_DIM, HIDDEN_DIM, 1)"
   ]
  },
  {
   "cell_type": "code",
   "execution_count": 218,
   "metadata": {},
   "outputs": [
    {
     "data": {
      "text/plain": [
       "MLP(\n",
       "  (fc_1): Linear(in_features=4, out_features=128, bias=True)\n",
       "  (fc_2): Linear(in_features=128, out_features=1, bias=True)\n",
       "  (dropout): Dropout(p=0.25, inplace=False)\n",
       ")"
      ]
     },
     "execution_count": 218,
     "metadata": {},
     "output_type": "execute_result"
    }
   ],
   "source": [
    "def init_weights(m):\n",
    "    if type(m) == nn.Linear:\n",
    "        torch.nn.init.xavier_normal_(m.weight)\n",
    "        m.bias.data.fill_(0)\n",
    "\n",
    "        \n",
    "actor.apply(init_weights)\n",
    "critic.apply(init_weights)"
   ]
  },
  {
   "cell_type": "code",
   "execution_count": 219,
   "metadata": {},
   "outputs": [],
   "source": [
    "LEARNING_RATE = 0.01\n",
    "\n",
    "actor_optimizer = optim.Adam(actor.parameters(), lr = LEARNING_RATE)\n",
    "critic_optimizer = optim.Adam(critic.parameters(), lr = LEARNING_RATE)"
   ]
  },
  {
   "cell_type": "code",
   "execution_count": 220,
   "metadata": {},
   "outputs": [],
   "source": [
    "def train(env, actor, critic, actor_optimizer, critic_optimizer, discount_factor, trace_decay):\n",
    "    \n",
    "    log_prob_actions = []\n",
    "    values = []\n",
    "    rewards = []\n",
    "    done = False\n",
    "    episode_reward = 0\n",
    "\n",
    "    state = env.reset()\n",
    "\n",
    "    while not done:\n",
    "\n",
    "        state = torch.FloatTensor(state).unsqueeze(0)\n",
    "\n",
    "        action_preds = actor(state)\n",
    "        value_pred = critic(state)\n",
    "                \n",
    "        action_probs = F.softmax(action_preds, dim = -1)\n",
    "                \n",
    "        dist = distributions.Categorical(action_probs)\n",
    "\n",
    "        action = dist.sample()\n",
    "        \n",
    "        log_prob_action = dist.log_prob(action)\n",
    "        \n",
    "        state, reward, done, _ = env.step(action.item())\n",
    "\n",
    "        log_prob_actions.append(log_prob_action)\n",
    "        values.append(value_pred)\n",
    "        rewards.append(reward)\n",
    "\n",
    "        episode_reward += reward\n",
    "    \n",
    "    log_prob_actions = torch.cat(log_prob_actions)\n",
    "    values = torch.cat(values).squeeze(-1)\n",
    "    \n",
    "    returns = calculate_returns(rewards, discount_factor)\n",
    "    advantages = calculate_advantages(rewards, values, discount_factor, trace_decay)\n",
    "    \n",
    "    policy_loss, value_loss = update_policy(advantages, log_prob_actions, returns, values, actor_optimizer, critic_optimizer)\n",
    "\n",
    "    return policy_loss, value_loss, episode_reward"
   ]
  },
  {
   "cell_type": "code",
   "execution_count": 221,
   "metadata": {},
   "outputs": [],
   "source": [
    "def calculate_returns(rewards, discount_factor, normalize = True):\n",
    "    \n",
    "    returns = []\n",
    "    R = 0\n",
    "    \n",
    "    for r in reversed(rewards):\n",
    "        R = r + R * discount_factor\n",
    "        returns.insert(0, R)\n",
    "        \n",
    "    returns = torch.tensor(returns)\n",
    "    \n",
    "    if normalize:\n",
    "        \n",
    "        returns = (returns - returns.mean()) / returns.std()\n",
    "        \n",
    "    return returns"
   ]
  },
  {
   "cell_type": "code",
   "execution_count": 222,
   "metadata": {},
   "outputs": [],
   "source": [
    "def calculate_advantages(rewards, values, discount_factor, trace_decay, normalize = True):\n",
    "    \n",
    "    advantages = []\n",
    "    advantage = 0\n",
    "    next_value = 0\n",
    "    \n",
    "    for r, v in zip(reversed(rewards), reversed(values)):\n",
    "        td_error = r + next_value * discount_factor - v\n",
    "        advantage = td_error + advantage * discount_factor * trace_decay\n",
    "        next_value = v\n",
    "        advantages.insert(0, advantage)\n",
    "        \n",
    "    advantages = torch.tensor(advantages)\n",
    "    \n",
    "    if normalize:\n",
    "        advantages = (advantages - advantages.mean()) / advantages.std()\n",
    "        \n",
    "    return advantages"
   ]
  },
  {
   "cell_type": "code",
   "execution_count": 223,
   "metadata": {},
   "outputs": [],
   "source": [
    "def update_policy(advantages, log_prob_actions, returns, values, actor_optimizer, critic_optimizer):\n",
    "        \n",
    "    advantages = advantages.detach()\n",
    "    returns = returns.detach()\n",
    "        \n",
    "    policy_loss = - (advantages * log_prob_actions).mean()\n",
    "    \n",
    "    value_loss = F.smooth_l1_loss(returns, values).mean()\n",
    "        \n",
    "    actor_optimizer.zero_grad()\n",
    "    critic_optimizer.zero_grad()\n",
    "    \n",
    "    policy_loss.backward()\n",
    "    value_loss.backward()\n",
    "    \n",
    "    actor_optimizer.step()\n",
    "    critic_optimizer.step()\n",
    "    \n",
    "    return policy_loss.item(), value_loss.item()"
   ]
  },
  {
   "cell_type": "code",
   "execution_count": 224,
   "metadata": {},
   "outputs": [],
   "source": [
    "def save_results(mean_return, std_return, timestamps, time_start, seed, env_name, name='gae'):\n",
    "    run_dict = {'name': name, \n",
    "                'avg_ret': mean_return,\n",
    "                'std_dev': std_return,\n",
    "                'timestamps': timestamps,\n",
    "                'time_start': time_start,\n",
    "                'seed': seed,\n",
    "                'env_name': env_name}\n",
    "    with open('run_time_%s_%s.pickle' % (name, seed), 'wb') as handle:\n",
    "        pickle.dump(run_dict, handle, protocol=pickle.HIGHEST_PROTOCOL)"
   ]
  },
  {
   "cell_type": "code",
   "execution_count": 225,
   "metadata": {},
   "outputs": [
    {
     "name": "stdout",
     "output_type": "stream",
     "text": [
      "| Episode:   10 | Mean Rewards:  32.70 | Rewards Std :  14.23 | \n",
      "| Episode:   20 | Mean Rewards:  42.50 | Rewards Std :  22.99 | \n",
      "| Episode:   30 | Mean Rewards:  46.44 | Rewards Std :  22.51 | \n",
      "| Episode:   40 | Mean Rewards:  68.64 | Rewards Std :  29.96 | \n",
      "| Episode:   50 | Mean Rewards:  99.36 | Rewards Std :  50.62 | \n",
      "| Episode:   60 | Mean Rewards: 134.40 | Rewards Std :  49.93 | \n",
      "| Episode:   70 | Mean Rewards: 164.28 | Rewards Std :  45.97 | \n",
      "| Episode:   80 | Mean Rewards: 172.24 | Rewards Std :  39.37 | \n",
      "| Episode:   90 | Mean Rewards: 192.32 | Rewards Std :  18.95 | \n",
      "| Episode:  100 | Mean Rewards: 174.68 | Rewards Std :  43.51 | \n",
      "| Episode:  110 | Mean Rewards: 141.40 | Rewards Std :  47.99 | \n",
      "| Episode:  120 | Mean Rewards:  94.72 | Rewards Std :  27.24 | \n",
      "| Episode:  130 | Mean Rewards: 100.12 | Rewards Std :  39.23 | \n",
      "| Episode:  140 | Mean Rewards: 146.04 | Rewards Std :  56.00 | \n",
      "| Episode:  150 | Mean Rewards: 190.88 | Rewards Std :  26.06 | \n",
      "| Episode:  160 | Mean Rewards: 199.04 | Rewards Std :   4.70 | \n",
      "| Episode:  170 | Mean Rewards: 185.60 | Rewards Std :  21.32 | \n",
      "| Episode:  180 | Mean Rewards: 179.88 | Rewards Std :  20.40 | \n",
      "| Episode:  190 | Mean Rewards: 179.56 | Rewards Std :  19.90 | \n",
      "| Episode:  200 | Mean Rewards: 191.08 | Rewards Std :  12.59 | \n",
      "| Episode:  210 | Mean Rewards: 197.88 | Rewards Std :   7.67 | \n",
      "| Episode:  220 | Mean Rewards: 200.00 | Rewards Std :   0.00 | \n",
      "| Episode:  230 | Mean Rewards: 195.96 | Rewards Std :  10.25 | \n",
      "| Episode:  240 | Mean Rewards: 184.96 | Rewards Std :  17.20 | \n",
      "| Episode:  250 | Mean Rewards: 167.36 | Rewards Std :  19.51 | \n",
      "| Episode:  260 | Mean Rewards: 151.48 | Rewards Std :  13.91 | \n",
      "| Episode:  270 | Mean Rewards: 135.44 | Rewards Std :  15.44 | \n",
      "| Episode:  280 | Mean Rewards: 122.92 | Rewards Std :  13.43 | \n",
      "| Episode:  290 | Mean Rewards: 129.28 | Rewards Std :  20.52 | \n",
      "| Episode:  300 | Mean Rewards: 131.60 | Rewards Std :  29.69 | \n",
      "| Episode:  310 | Mean Rewards: 123.80 | Rewards Std :  30.70 | \n",
      "| Episode:  320 | Mean Rewards: 114.08 | Rewards Std :  21.38 | \n",
      "| Episode:  330 | Mean Rewards: 130.48 | Rewards Std :  16.66 | \n",
      "| Episode:  340 | Mean Rewards: 158.68 | Rewards Std :  32.62 | \n",
      "| Episode:  350 | Mean Rewards: 188.60 | Rewards Std :  19.05 | \n",
      "| Episode:  360 | Mean Rewards: 200.00 | Rewards Std :   0.00 | \n",
      "| Episode:  370 | Mean Rewards: 200.00 | Rewards Std :   0.00 | \n",
      "| Episode:  380 | Mean Rewards: 198.76 | Rewards Std :   2.70 | \n",
      "| Episode:  390 | Mean Rewards: 198.76 | Rewards Std :   2.70 | \n",
      "| Episode:  400 | Mean Rewards: 199.28 | Rewards Std :   2.31 | \n",
      "| Episode:  410 | Mean Rewards: 200.00 | Rewards Std :   0.00 | \n",
      "| Episode:  420 | Mean Rewards: 200.00 | Rewards Std :   0.00 | \n",
      "| Episode:  430 | Mean Rewards: 200.00 | Rewards Std :   0.00 | \n",
      "| Episode:  440 | Mean Rewards: 200.00 | Rewards Std :   0.00 | \n",
      "| Episode:  450 | Mean Rewards: 200.00 | Rewards Std :   0.00 | \n",
      "| Episode:  460 | Mean Rewards: 200.00 | Rewards Std :   0.00 | \n",
      "| Episode:  470 | Mean Rewards: 200.00 | Rewards Std :   0.00 | \n",
      "| Episode:  480 | Mean Rewards: 200.00 | Rewards Std :   0.00 | \n",
      "| Episode:  490 | Mean Rewards: 178.88 | Rewards Std :  29.90 | \n",
      "| Episode:  500 | Mean Rewards: 146.68 | Rewards Std :  33.30 | \n"
     ]
    }
   ],
   "source": [
    "import time\n",
    "import pickle\n",
    "\n",
    "MAX_EPISODES = 500\n",
    "DISCOUNT_FACTOR = 0.99\n",
    "TRACE_DECAY = 0.97\n",
    "N_TRIALS = 25\n",
    "REWARD_THRESHOLD = 475\n",
    "PRINT_EVERY = 10\n",
    "\n",
    "episode_rewards = []\n",
    "timestamps = []\n",
    "time_start = time.time()\n",
    "avg_ret = []\n",
    "std_dev = []\n",
    "for episode in range(1, MAX_EPISODES+1):\n",
    "    \n",
    "    policy_loss, value_loss, episode_reward = train(env, actor, critic, actor_optimizer, critic_optimizer, DISCOUNT_FACTOR, TRACE_DECAY)\n",
    "\n",
    "    episode_rewards.append(episode_reward)\n",
    "    mean_trial_rewards = np.mean(episode_rewards[-N_TRIALS:])\n",
    "    std_trial_rewards = np.std(episode_rewards[-N_TRIALS:])\n",
    "    \n",
    "    timestamps.append(time.time())\n",
    "    avg_ret.append(mean_trial_rewards)\n",
    "    std_dev.append(std_trial_rewards)\n",
    "    \n",
    "    if episode % PRINT_EVERY == 0:\n",
    "    \n",
    "        print(f'| Episode: {episode:4} | Mean Rewards: {mean_trial_rewards:6.2f} | Rewards Std : {std_trial_rewards:6.2f} | ')\n",
    "    \n",
    "    if mean_trial_rewards >= REWARD_THRESHOLD:\n",
    "        \n",
    "        print(f'Reached reward threshold in {episode} episodes')\n",
    "        \n",
    "        break\n",
    "\n",
    "        \n",
    "save_results(avg_ret, std_dev, timestamps, time_start, SEED, env_name)"
   ]
  },
  {
   "cell_type": "code",
   "execution_count": 226,
   "metadata": {},
   "outputs": [
    {
     "data": {
      "image/png": "[encoded data removed]",
      "text/plain": [
       "<Figure size 864x576 with 1 Axes>"
      ]
     },
     "metadata": {
      "needs_background": "light"
     },
     "output_type": "display_data"
    }
   ],
   "source": [
    "plt.figure(figsize=(12,8))\n",
    "plt.plot(episode_rewards)\n",
    "plt.xlabel('Episode', fontsize=20)\n",
    "plt.ylabel('Reward', fontsize=20)\n",
    "plt.hlines(REWARD_THRESHOLD, 0, len(episode_rewards), color='r')\n",
    "plt.grid()"
   ]
  },
  {
   "cell_type": "code",
   "execution_count": null,
   "metadata": {},
   "outputs": [],
   "source": []
  },
  {
   "cell_type": "code",
   "execution_count": null,
   "metadata": {},
   "outputs": [],
   "source": []
  },
  {
   "cell_type": "code",
   "execution_count": null,
   "metadata": {},
   "outputs": [],
   "source": []
  }
 ],
 "metadata": {
  "kernelspec": {
   "display_name": "Python 3",
   "language": "python",
   "name": "python3"
  },
  "language_info": {
   "codemirror_mode": {
    "name": "ipython",
    "version": 3
   },
   "file_extension": ".py",
   "mimetype": "text/x-python",
   "name": "python",
   "nbconvert_exporter": "python",
   "pygments_lexer": "ipython3",
   "version": "3.7.3"
  }
 },
 "nbformat": 4,
 "nbformat_minor": 2
}
