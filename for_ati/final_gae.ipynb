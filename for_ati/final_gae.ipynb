{
 "cells": [
  {
   "cell_type": "markdown",
   "metadata": {},
   "source": [
    "https://datascience.stackexchange.com/questions/32480/how-does-generalised-advantage-estimation-work\n",
    "https://lilianweng.github.io/lil-log/2018/02/19/a-long-peek-into-reinforcement-learning.html#combining-td-and-mc-learning\n",
    "https://arxiv.org/pdf/1506.02438.pdf\n",
    "https://github.com/higgsfield/RL-Adventure-2\n",
    "http://www.breloff.com/DeepRL-OnlineGAE/\n",
    "https://arxiv.org/pdf/1804.02717.pdf\n",
    "https://ewrl.files.wordpress.com/2015/02/ewrl12_2015_submission_18.pdf\n",
    "https://github.com/Kaixhin/Dist-A3C\n",
    "https://github.com/Kaixhin/Dist-A3C/blob/master/client.py"
   ]
  },
  {
   "cell_type": "code",
   "execution_count": 1,
   "metadata": {},
   "outputs": [],
   "source": [
    "import torch\n",
    "import torch.nn as nn\n",
    "import torch.optim as optim\n",
    "import torch.nn.functional as F\n",
    "import torch.distributions as distributions\n",
    "\n",
    "import matplotlib.pyplot as plt\n",
    "from tqdm import tqdm_notebook as tqdm\n",
    "import numpy as np\n",
    "import gym"
   ]
  },
  {
   "cell_type": "code",
   "execution_count": 2,
   "metadata": {},
   "outputs": [],
   "source": [
    "env_name = 'Acrobot-v1'\n",
    "# env_name = 'MountainCar-v0'\n",
    "#env_name = 'FrozenLake-v0'\n",
    "env = gym.make(env_name)\n",
    "\n",
    "#assert isinstance(env.observation_space, gym.spaces.Box)\n",
    "#assert isinstance(env.action_space, gym.spaces.Discrete)"
   ]
  },
  {
   "cell_type": "code",
   "execution_count": 3,
   "metadata": {},
   "outputs": [],
   "source": [
    "SEED = 69\n",
    "init = True\n",
    "model_path = ['actor_weights.pt', 'critic_weights.pt']\n",
    "save = False\n",
    "env.seed(SEED);\n",
    "np.random.seed(SEED);\n",
    "torch.manual_seed(SEED);"
   ]
  },
  {
   "cell_type": "code",
   "execution_count": 4,
   "metadata": {},
   "outputs": [],
   "source": [
    "class MLP(nn.Module):\n",
    "    def __init__(self, input_dim, hidden_dim, output_dim, dropout = 0.25):\n",
    "        super().__init__()\n",
    "\n",
    "        self.fc_1 = nn.Linear(input_dim, hidden_dim)\n",
    "        self.fc_2 = nn.Linear(hidden_dim, output_dim)\n",
    "        self.dropout = nn.Dropout(dropout)\n",
    "        \n",
    "    def forward(self, x):\n",
    "        x = self.fc_1(x)\n",
    "        x = self.dropout(x)\n",
    "        x = F.relu(x)\n",
    "        x = self.fc_2(x)\n",
    "        return x"
   ]
  },
  {
   "cell_type": "code",
   "execution_count": 5,
   "metadata": {},
   "outputs": [
    {
     "name": "stdout",
     "output_type": "stream",
     "text": [
      "6\n"
     ]
    }
   ],
   "source": [
    "#INPUT_DIM = env.observation_space.shape[0]\n",
    "if env_name == 'FrozenLake-v0':\n",
    "    INPUT_DIM = env.observation_space.n\n",
    "else:\n",
    "    INPUT_DIM = env.observation_space.shape[0]\n",
    "print(INPUT_DIM)\n",
    "HIDDEN_DIM = 128\n",
    "OUTPUT_DIM = env.action_space.n\n",
    "\n",
    "actor = MLP(INPUT_DIM, HIDDEN_DIM, OUTPUT_DIM)\n",
    "critic = MLP(INPUT_DIM, HIDDEN_DIM, 1)"
   ]
  },
  {
   "cell_type": "code",
   "execution_count": 6,
   "metadata": {},
   "outputs": [],
   "source": [
    "def init_weights(m):\n",
    "    if type(m) == nn.Linear:\n",
    "        torch.nn.init.xavier_normal_(m.weight)\n",
    "        m.bias.data.fill_(0)\n",
    "\n",
    "actor.apply(init_weights)\n",
    "critic.apply(init_weights)\n",
    "if not init:\n",
    "    actor.load_state_dict(torch.load(model_path[0]))\n",
    "    critic.load_state_dict(torch.load(model_path[1]))"
   ]
  },
  {
   "cell_type": "code",
   "execution_count": 7,
   "metadata": {},
   "outputs": [],
   "source": [
    "LEARNING_RATE = 0.01\n",
    "\n",
    "actor_optimizer = optim.Adam(actor.parameters(), lr = LEARNING_RATE)\n",
    "critic_optimizer = optim.Adam(critic.parameters(), lr = LEARNING_RATE)"
   ]
  },
  {
   "cell_type": "code",
   "execution_count": 8,
   "metadata": {},
   "outputs": [
    {
     "data": {
      "application/vnd.jupyter.widget-view+json": {
       "model_id": "b10c094aca214a11bc282fbdca82f693",
       "version_major": 2,
       "version_minor": 0
      },
      "text/plain": [
       "HBox(children=(IntProgress(value=0, max=10), HTML(value='')))"
      ]
     },
     "metadata": {},
     "output_type": "display_data"
    },
    {
     "name": "stdout",
     "output_type": "stream",
     "text": [
      "| Episode:  100 | Mean Rewards: -146.00 \n",
      "| Episode:  200 | Mean Rewards: -152.00 \n",
      "| Episode:  300 | Mean Rewards: -250.00 \n",
      "| Episode:  400 | Mean Rewards: -500.00 \n",
      "| Episode:  500 | Mean Rewards: -88.00 \n",
      "| Episode:  100 | Mean Rewards: -86.00 \n",
      "| Episode:  200 | Mean Rewards: -73.00 \n",
      "| Episode:  300 | Mean Rewards: -450.00 \n",
      "| Episode:  400 | Mean Rewards: -65.00 \n",
      "| Episode:  500 | Mean Rewards: -500.00 \n",
      "| Episode:  100 | Mean Rewards: -116.00 \n",
      "| Episode:  200 | Mean Rewards: -68.00 \n",
      "| Episode:  300 | Mean Rewards: -79.00 \n",
      "| Episode:  400 | Mean Rewards: -79.00 \n",
      "| Episode:  500 | Mean Rewards: -92.00 \n",
      "| Episode:  100 | Mean Rewards: -78.00 \n",
      "| Episode:  200 | Mean Rewards: -64.00 \n",
      "| Episode:  300 | Mean Rewards: -87.00 \n",
      "| Episode:  400 | Mean Rewards: -500.00 \n",
      "| Episode:  500 | Mean Rewards: -500.00 \n",
      "| Episode:  100 | Mean Rewards: -500.00 \n",
      "| Episode:  200 | Mean Rewards: -81.00 \n",
      "| Episode:  300 | Mean Rewards: -82.00 \n",
      "| Episode:  400 | Mean Rewards: -84.00 \n",
      "| Episode:  500 | Mean Rewards: -90.00 \n",
      "| Episode:  100 | Mean Rewards: -500.00 \n",
      "| Episode:  200 | Mean Rewards: -500.00 \n",
      "| Episode:  300 | Mean Rewards: -500.00 \n",
      "| Episode:  400 | Mean Rewards: -500.00 \n",
      "| Episode:  500 | Mean Rewards: -500.00 \n",
      "| Episode:  100 | Mean Rewards: -110.00 \n",
      "| Episode:  200 | Mean Rewards: -78.00 \n",
      "| Episode:  300 | Mean Rewards: -96.00 \n",
      "| Episode:  400 | Mean Rewards: -91.00 \n",
      "| Episode:  500 | Mean Rewards: -81.00 \n",
      "| Episode:  100 | Mean Rewards: -500.00 \n",
      "| Episode:  200 | Mean Rewards: -320.00 \n",
      "| Episode:  300 | Mean Rewards: -87.00 \n",
      "| Episode:  400 | Mean Rewards: -78.00 \n",
      "| Episode:  500 | Mean Rewards: -500.00 \n",
      "| Episode:  100 | Mean Rewards: -121.00 \n",
      "| Episode:  200 | Mean Rewards: -92.00 \n",
      "| Episode:  300 | Mean Rewards: -500.00 \n",
      "| Episode:  400 | Mean Rewards: -76.00 \n",
      "| Episode:  500 | Mean Rewards: -500.00 \n",
      "| Episode:  100 | Mean Rewards: -500.00 \n",
      "| Episode:  200 | Mean Rewards: -500.00 \n",
      "| Episode:  300 | Mean Rewards: -500.00 \n",
      "| Episode:  400 | Mean Rewards: -500.00 \n",
      "| Episode:  500 | Mean Rewards: -500.00 \n",
      "\n"
     ]
    }
   ],
   "source": [
    "def train(env, actor, critic, actor_optimizer, critic_optimizer, discount_factor, trace_decay, init):\n",
    "    \n",
    "    log_prob_actions = []\n",
    "    values = []\n",
    "    rewards = []\n",
    "    done = False\n",
    "    episode_reward = 0\n",
    "    \n",
    "    state = env.reset()\n",
    "\n",
    "    while not done:\n",
    "\n",
    "        state = torch.FloatTensor(state).unsqueeze(0)\n",
    "\n",
    "        action_preds = actor(state)\n",
    "        value_pred = critic(state)\n",
    "                \n",
    "        action_probs = F.softmax(action_preds, dim = -1)\n",
    "                \n",
    "        dist = distributions.Categorical(action_probs)\n",
    "\n",
    "        action = dist.sample()\n",
    "        \n",
    "        log_prob_action = dist.log_prob(action)\n",
    "        \n",
    "        state, reward, done, _ = env.step(action.item())\n",
    "\n",
    "        log_prob_actions.append(log_prob_action)\n",
    "        values.append(value_pred)\n",
    "        rewards.append(reward)\n",
    "\n",
    "        episode_reward += reward\n",
    "    \n",
    "    log_prob_actions = torch.cat(log_prob_actions)\n",
    "    values = torch.cat(values).squeeze(-1)\n",
    "    \n",
    "    returns = calculate_returns(rewards, discount_factor)\n",
    "    advantages = calculate_advantages(rewards, values, discount_factor, trace_decay)\n",
    "    \n",
    "    policy_loss, value_loss = update_policy(advantages, log_prob_actions, returns, values, actor_optimizer, critic_optimizer, init)\n",
    "\n",
    "    return policy_loss, value_loss, episode_reward\n",
    "\n",
    "def calculate_returns(rewards, discount_factor, normalize = True):\n",
    "    \n",
    "    returns = []\n",
    "    R = 0\n",
    "    \n",
    "    for r in reversed(rewards):\n",
    "        R = r + R * discount_factor\n",
    "        returns.insert(0, R)\n",
    "        \n",
    "    returns = torch.tensor(returns)\n",
    "    \n",
    "    if normalize:\n",
    "        \n",
    "        returns = (returns - returns.mean()) / returns.std()\n",
    "        \n",
    "    return returns\n",
    "\n",
    "def calculate_advantages(rewards, values, discount_factor, trace_decay, normalize = True):\n",
    "    \n",
    "    advantages = []\n",
    "    advantage = 0\n",
    "    next_value = 0\n",
    "    \n",
    "    for r, v in zip(reversed(rewards), reversed(values)):\n",
    "        td_error = r + next_value * discount_factor - v\n",
    "        advantage = td_error + advantage * discount_factor * trace_decay\n",
    "        next_value = v\n",
    "        advantages.insert(0, advantage)\n",
    "        \n",
    "    advantages = torch.tensor(advantages)\n",
    "    advantages *= 1 - trace_decay\n",
    "    if normalize:\n",
    "        advantages = (advantages - advantages.mean()) / advantages.std()\n",
    "        \n",
    "    return advantages\n",
    "\n",
    "def update_policy(advantages, log_prob_actions, returns, values, actor_optimizer, critic_optimizer, init):\n",
    "        \n",
    "    advantages = advantages.detach()\n",
    "    returns = returns.detach()\n",
    "    policy_loss = - (advantages * log_prob_actions).mean()\n",
    "    \n",
    "    value_loss = F.smooth_l1_loss(returns, values).mean()\n",
    "        \n",
    "    actor_optimizer.zero_grad()\n",
    "    critic_optimizer.zero_grad()\n",
    "    \n",
    "    policy_loss.backward(retain_graph=True)\n",
    "    value_loss.backward(retain_graph=True)\n",
    "    if init:\n",
    "        actor_optimizer.step()\n",
    "        critic_optimizer.step()\n",
    "    \n",
    "    return policy_loss.item(), value_loss.item()\n",
    "\n",
    "import time\n",
    "import pickle\n",
    "def save_results(mean_return, std_return, timestamps, time_start, seed, env_name, init, TRACE_DECAY, name='GAE'):\n",
    "    run_dict = {'name': name, \n",
    "                'avg_ret': mean_return,\n",
    "                'std_dev': std_return,\n",
    "                'timestamps': timestamps,\n",
    "                'time_start': time_start,\n",
    "                'seed': seed,\n",
    "                'env_name': env_name,\n",
    "               'lambda' : TRACE_DECAY}\n",
    "    if not init:\n",
    "        filename = 'run_time_%s_%s_%s_%s.pickle' % (name,env_name, seed, 'pretrained')\n",
    "    else:\n",
    "        filename = 'run_time_%s_%s_%s_%f.pickle' % (name, env_name, seed,TRACE_DECAY)\n",
    "    with open(filename, 'wb') as handle:\n",
    "        pickle.dump(run_dict, handle, protocol=pickle.HIGHEST_PROTOCOL)\n",
    "\n",
    "def train_one_agent(MAX_EPISODES = 1000, DISCOUNT_FACTOR = 0.99, TRACE_DECAY = 0., N_TRIALS = 25, PRINT_EVERY = 100):\n",
    "    episode_rewards = []\n",
    "    timestamps = []\n",
    "    time_start = time.time()\n",
    "    avg_ret = []\n",
    "    std_dev = []\n",
    "    \n",
    "    _ = env.reset()\n",
    "    actor.apply(init_weights)\n",
    "    critic.apply(init_weights)\n",
    "    \n",
    "    for episode in range(1, MAX_EPISODES+1):\n",
    "\n",
    "        policy_loss, value_loss, episode_reward = train(env, actor, critic, actor_optimizer, critic_optimizer, DISCOUNT_FACTOR, TRACE_DECAY, init)\n",
    "\n",
    "        episode_rewards.append(episode_reward)\n",
    "        mean_trial_rewards = np.mean(episode_rewards[-N_TRIALS:])\n",
    "        std_trial_rewards = np.std(episode_rewards[-N_TRIALS:])\n",
    "\n",
    "        timestamps.append(time.time())\n",
    "        avg_ret.append(mean_trial_rewards)\n",
    "        std_dev.append(std_trial_rewards)\n",
    "\n",
    "        if episode % PRINT_EVERY == 0:\n",
    "\n",
    "            print(f'| Episode: {episode:4} | Mean Rewards: {episode_reward:6.2f} ')\n",
    "    return time_start, timestamps, avg_ret, std_dev\n",
    "\n",
    "\n",
    "list_time_start = []\n",
    "list_timestamps = []\n",
    "list_rewards = []\n",
    "\n",
    "num_agents = 10\n",
    "TRACE_DECAY = 0.\n",
    "MAX_EPISODES= 500\n",
    "for run in tqdm(range(num_agents)):\n",
    "\n",
    "    time_start, timestamps, episode_rewards, _ = train_one_agent(MAX_EPISODES=MAX_EPISODES,TRACE_DECAY=TRACE_DECAY)\n",
    "\n",
    "    list_time_start.append(time_start)\n",
    "    list_timestamps.append(timestamps)\n",
    "    list_rewards.append(episode_rewards)\n",
    "    \n",
    "mean_trial_rewards = np.array(list_rewards).mean(axis=0).tolist()\n",
    "std_trial_rewards = np.array(list_rewards).std(axis=0).tolist()\n",
    "timestamps = np.array(list_timestamps).mean(axis=0).tolist()\n",
    "time_start = np.array(list_time_start).mean().tolist()\n",
    "        \n",
    "save_results(mean_trial_rewards, std_trial_rewards, timestamps, time_start, SEED, env_name, init, TRACE_DECAY)\n",
    "if save == True:\n",
    "    torch.save(actor.state_dict(), 'actor_weights.pt')\n",
    "    torch.save(critic.state_dict(), 'critic_weights.pt')"
   ]
  },
  {
   "cell_type": "code",
   "execution_count": 9,
   "metadata": {},
   "outputs": [],
   "source": [
    "save_results(mean_trial_rewards, std_trial_rewards, timestamps, time_start, SEED, env_name, init, TRACE_DECAY)\n"
   ]
  },
  {
   "cell_type": "code",
   "execution_count": 10,
   "metadata": {},
   "outputs": [
    {
     "ename": "NameError",
     "evalue": "name 'REWARD_THRESHOLD' is not defined",
     "output_type": "error",
     "traceback": [
      "\u001b[0;31m---------------------------------------------------------------------------\u001b[0m",
      "\u001b[0;31mNameError\u001b[0m                                 Traceback (most recent call last)",
      "\u001b[0;32m<ipython-input-10-78f1114a1977>\u001b[0m in \u001b[0;36m<module>\u001b[0;34m\u001b[0m\n\u001b[1;32m      3\u001b[0m \u001b[0mplt\u001b[0m\u001b[0;34m.\u001b[0m\u001b[0mxlabel\u001b[0m\u001b[0;34m(\u001b[0m\u001b[0;34m'Episode'\u001b[0m\u001b[0;34m,\u001b[0m \u001b[0mfontsize\u001b[0m\u001b[0;34m=\u001b[0m\u001b[0;36m20\u001b[0m\u001b[0;34m)\u001b[0m\u001b[0;34m\u001b[0m\u001b[0;34m\u001b[0m\u001b[0m\n\u001b[1;32m      4\u001b[0m \u001b[0mplt\u001b[0m\u001b[0;34m.\u001b[0m\u001b[0mylabel\u001b[0m\u001b[0;34m(\u001b[0m\u001b[0;34m'Reward'\u001b[0m\u001b[0;34m,\u001b[0m \u001b[0mfontsize\u001b[0m\u001b[0;34m=\u001b[0m\u001b[0;36m20\u001b[0m\u001b[0;34m)\u001b[0m\u001b[0;34m\u001b[0m\u001b[0;34m\u001b[0m\u001b[0m\n\u001b[0;32m----> 5\u001b[0;31m \u001b[0mplt\u001b[0m\u001b[0;34m.\u001b[0m\u001b[0mhlines\u001b[0m\u001b[0;34m(\u001b[0m\u001b[0mREWARD_THRESHOLD\u001b[0m\u001b[0;34m,\u001b[0m \u001b[0;36m0\u001b[0m\u001b[0;34m,\u001b[0m \u001b[0mlen\u001b[0m\u001b[0;34m(\u001b[0m\u001b[0mepisode_rewards\u001b[0m\u001b[0;34m)\u001b[0m\u001b[0;34m,\u001b[0m \u001b[0mcolor\u001b[0m\u001b[0;34m=\u001b[0m\u001b[0;34m'r'\u001b[0m\u001b[0;34m)\u001b[0m\u001b[0;34m\u001b[0m\u001b[0;34m\u001b[0m\u001b[0m\n\u001b[0m\u001b[1;32m      6\u001b[0m \u001b[0mplt\u001b[0m\u001b[0;34m.\u001b[0m\u001b[0mgrid\u001b[0m\u001b[0;34m(\u001b[0m\u001b[0;34m)\u001b[0m\u001b[0;34m\u001b[0m\u001b[0;34m\u001b[0m\u001b[0m\n",
      "\u001b[0;31mNameError\u001b[0m: name 'REWARD_THRESHOLD' is not defined"
     ]
    },
    {
     "data": {
      "image/png": "[encoded data removed]",
      "text/plain": [
       "<Figure size 864x576 with 1 Axes>"
      ]
     },
     "metadata": {
      "needs_background": "light"
     },
     "output_type": "display_data"
    }
   ],
   "source": [
    "plt.figure(figsize=(12,8))\n",
    "plt.plot(episode_rewards)\n",
    "plt.xlabel('Episode', fontsize=20)\n",
    "plt.ylabel('Reward', fontsize=20)\n",
    "plt.hlines(REWARD_THRESHOLD, 0, len(episode_rewards), color='r')\n",
    "plt.grid()"
   ]
  },
  {
   "cell_type": "code",
   "execution_count": null,
   "metadata": {},
   "outputs": [],
   "source": []
  },
  {
   "cell_type": "code",
   "execution_count": null,
   "metadata": {},
   "outputs": [],
   "source": []
  },
  {
   "cell_type": "code",
   "execution_count": null,
   "metadata": {},
   "outputs": [],
   "source": []
  }
 ],
 "metadata": {
  "kernelspec": {
   "display_name": "Python 3",
   "language": "python",
   "name": "python3"
  },
  "language_info": {
   "codemirror_mode": {
    "name": "ipython",
    "version": 3
   },
   "file_extension": ".py",
   "mimetype": "text/x-python",
   "name": "python",
   "nbconvert_exporter": "python",
   "pygments_lexer": "ipython3",
   "version": "3.7.3"
  }
 },
 "nbformat": 4,
 "nbformat_minor": 2
}
